{
 "cells": [
  {
   "cell_type": "markdown",
   "metadata": {},
   "source": [
    "## 3803ICT_Assignment"
   ]
  },
  {
   "cell_type": "markdown",
   "metadata": {},
   "source": [
    "### Part 1 - Data Preparation and Preprocessing"
   ]
  },
  {
   "cell_type": "code",
   "execution_count": 15,
   "metadata": {},
   "outputs": [
    {
     "data": {
      "text/html": [
       "<div>\n",
       "<style scoped>\n",
       "    .dataframe tbody tr th:only-of-type {\n",
       "        vertical-align: middle;\n",
       "    }\n",
       "\n",
       "    .dataframe tbody tr th {\n",
       "        vertical-align: top;\n",
       "    }\n",
       "\n",
       "    .dataframe thead th {\n",
       "        text-align: right;\n",
       "    }\n",
       "</style>\n",
       "<table border=\"1\" class=\"dataframe\">\n",
       "  <thead>\n",
       "    <tr style=\"text-align: right;\">\n",
       "      <th></th>\n",
       "      <th>Id</th>\n",
       "      <th>Title</th>\n",
       "      <th>Company</th>\n",
       "      <th>Date</th>\n",
       "      <th>Location</th>\n",
       "      <th>Area</th>\n",
       "      <th>Classification</th>\n",
       "      <th>SubClassification</th>\n",
       "      <th>Requirement</th>\n",
       "      <th>FullDescription</th>\n",
       "      <th>LowestSalary</th>\n",
       "      <th>HighestSalary</th>\n",
       "      <th>JobType</th>\n",
       "    </tr>\n",
       "  </thead>\n",
       "  <tbody>\n",
       "    <tr>\n",
       "      <th>0</th>\n",
       "      <td>37404348</td>\n",
       "      <td>Casual Stock Replenisher</td>\n",
       "      <td>Aldi Stores</td>\n",
       "      <td>2018-10-07T00:00:00.000Z</td>\n",
       "      <td>Sydney</td>\n",
       "      <td>North West &amp; Hills District</td>\n",
       "      <td>Retail &amp; Consumer Products</td>\n",
       "      <td>Retail Assistants</td>\n",
       "      <td>Our Casual Stock Replenishers pride themselves...</td>\n",
       "      <td>NaN</td>\n",
       "      <td>0</td>\n",
       "      <td>30</td>\n",
       "      <td>NaN</td>\n",
       "    </tr>\n",
       "    <tr>\n",
       "      <th>1</th>\n",
       "      <td>37404337</td>\n",
       "      <td>Casual Stock Replenisher</td>\n",
       "      <td>Aldi Stores</td>\n",
       "      <td>2018-10-07T00:00:00.000Z</td>\n",
       "      <td>Richmond &amp; Hawkesbury</td>\n",
       "      <td>NaN</td>\n",
       "      <td>Retail &amp; Consumer Products</td>\n",
       "      <td>Retail Assistants</td>\n",
       "      <td>Our Casual Stock Replenishers pride themselves...</td>\n",
       "      <td>NaN</td>\n",
       "      <td>0</td>\n",
       "      <td>30</td>\n",
       "      <td>NaN</td>\n",
       "    </tr>\n",
       "    <tr>\n",
       "      <th>2</th>\n",
       "      <td>37404356</td>\n",
       "      <td>RETAIL SALES SUPERSTARS and STYLISTS Wanted - ...</td>\n",
       "      <td>LB Creative Pty Ltd</td>\n",
       "      <td>2018-10-07T00:00:00.000Z</td>\n",
       "      <td>Brisbane</td>\n",
       "      <td>CBD &amp; Inner Suburbs</td>\n",
       "      <td>Retail &amp; Consumer Products</td>\n",
       "      <td>Retail Assistants</td>\n",
       "      <td>BRAND NEW FLAGSHIP STORE OPENING - SUNSHINE PLAZA</td>\n",
       "      <td>NaN</td>\n",
       "      <td>0</td>\n",
       "      <td>30</td>\n",
       "      <td>NaN</td>\n",
       "    </tr>\n",
       "    <tr>\n",
       "      <th>3</th>\n",
       "      <td>37404330</td>\n",
       "      <td>Team member - Belrose</td>\n",
       "      <td>Anaconda Group Pty Ltd</td>\n",
       "      <td>2018-10-07T00:00:00.000Z</td>\n",
       "      <td>Gosford &amp; Central Coast</td>\n",
       "      <td>NaN</td>\n",
       "      <td>Retail &amp; Consumer Products</td>\n",
       "      <td>Retail Assistants</td>\n",
       "      <td>Bring it on - do you love the great outdoors a...</td>\n",
       "      <td>NaN</td>\n",
       "      <td>0</td>\n",
       "      <td>30</td>\n",
       "      <td>NaN</td>\n",
       "    </tr>\n",
       "    <tr>\n",
       "      <th>4</th>\n",
       "      <td>37404308</td>\n",
       "      <td>Business Banking Contact Centre Specialist, Ni...</td>\n",
       "      <td>Commonwealth Bank - Business &amp; Private Banking</td>\n",
       "      <td>2018-10-07T00:00:00.000Z</td>\n",
       "      <td>Sydney</td>\n",
       "      <td>Ryde &amp; Macquarie Park</td>\n",
       "      <td>Call Centre &amp; Customer Service</td>\n",
       "      <td>Sales - Inbound</td>\n",
       "      <td>We are seeking highly articulate, enthusiastic...</td>\n",
       "      <td>NaN</td>\n",
       "      <td>0</td>\n",
       "      <td>30</td>\n",
       "      <td>NaN</td>\n",
       "    </tr>\n",
       "  </tbody>\n",
       "</table>\n",
       "</div>"
      ],
      "text/plain": [
       "         Id                                              Title  \\\n",
       "0  37404348                           Casual Stock Replenisher   \n",
       "1  37404337                           Casual Stock Replenisher   \n",
       "2  37404356  RETAIL SALES SUPERSTARS and STYLISTS Wanted - ...   \n",
       "3  37404330                              Team member - Belrose   \n",
       "4  37404308  Business Banking Contact Centre Specialist, Ni...   \n",
       "\n",
       "                                          Company                      Date  \\\n",
       "0                                     Aldi Stores  2018-10-07T00:00:00.000Z   \n",
       "1                                     Aldi Stores  2018-10-07T00:00:00.000Z   \n",
       "2                             LB Creative Pty Ltd  2018-10-07T00:00:00.000Z   \n",
       "3                          Anaconda Group Pty Ltd  2018-10-07T00:00:00.000Z   \n",
       "4  Commonwealth Bank - Business & Private Banking  2018-10-07T00:00:00.000Z   \n",
       "\n",
       "                  Location                         Area  \\\n",
       "0                   Sydney  North West & Hills District   \n",
       "1    Richmond & Hawkesbury                          NaN   \n",
       "2                 Brisbane          CBD & Inner Suburbs   \n",
       "3  Gosford & Central Coast                          NaN   \n",
       "4                   Sydney        Ryde & Macquarie Park   \n",
       "\n",
       "                   Classification  SubClassification  \\\n",
       "0      Retail & Consumer Products  Retail Assistants   \n",
       "1      Retail & Consumer Products  Retail Assistants   \n",
       "2      Retail & Consumer Products  Retail Assistants   \n",
       "3      Retail & Consumer Products  Retail Assistants   \n",
       "4  Call Centre & Customer Service    Sales - Inbound   \n",
       "\n",
       "                                         Requirement FullDescription  \\\n",
       "0  Our Casual Stock Replenishers pride themselves...             NaN   \n",
       "1  Our Casual Stock Replenishers pride themselves...             NaN   \n",
       "2  BRAND NEW FLAGSHIP STORE OPENING - SUNSHINE PLAZA             NaN   \n",
       "3  Bring it on - do you love the great outdoors a...             NaN   \n",
       "4  We are seeking highly articulate, enthusiastic...             NaN   \n",
       "\n",
       "   LowestSalary  HighestSalary JobType  \n",
       "0             0             30     NaN  \n",
       "1             0             30     NaN  \n",
       "2             0             30     NaN  \n",
       "3             0             30     NaN  \n",
       "4             0             30     NaN  "
      ]
     },
     "execution_count": 15,
     "metadata": {},
     "output_type": "execute_result"
    }
   ],
   "source": [
    "# Import libraries\n",
    "import numpy as np\n",
    "import pandas as pd\n",
    "import matplotlib.pyplot as plt\n",
    "\n",
    "# Read in data\n",
    "df = pd.read_csv('../data/data.csv', low_memory=False)\n",
    "df.head()"
   ]
  },
  {
   "cell_type": "code",
   "execution_count": 2,
   "metadata": {},
   "outputs": [
    {
     "data": {
      "text/plain": [
       "Id                   object\n",
       "Title                object\n",
       "Company              object\n",
       "Date                 object\n",
       "Location             object\n",
       "Area                 object\n",
       "Classification       object\n",
       "SubClassification    object\n",
       "Requirement          object\n",
       "FullDescription      object\n",
       "LowestSalary          int64\n",
       "HighestSalary         int64\n",
       "JobType              object\n",
       "dtype: object"
      ]
     },
     "execution_count": 2,
     "metadata": {},
     "output_type": "execute_result"
    }
   ],
   "source": [
    "# Check dtypes\n",
    "df.dtypes"
   ]
  },
  {
   "cell_type": "code",
   "execution_count": 16,
   "metadata": {},
   "outputs": [],
   "source": [
    "# Change Date dtype to datetime\n",
    "df['Date'] = pd.to_datetime(df['Date'])"
   ]
  },
  {
   "cell_type": "code",
   "execution_count": 18,
   "metadata": {},
   "outputs": [
    {
     "data": {
      "text/plain": [
       "Id                                 int32\n",
       "Title                             object\n",
       "Company                           object\n",
       "Date                 datetime64[ns, UTC]\n",
       "Location                          object\n",
       "Area                              object\n",
       "Classification                    object\n",
       "SubClassification                 object\n",
       "Requirement                       object\n",
       "FullDescription                   object\n",
       "LowestSalary                       int64\n",
       "HighestSalary                      int64\n",
       "JobType                           object\n",
       "dtype: object"
      ]
     },
     "execution_count": 18,
     "metadata": {},
     "output_type": "execute_result"
    }
   ],
   "source": [
    "# Remove all '&searchrequesttoken...' strings from Id column\n",
    "df['Id'] = df['Id'].str.split('&').str[0]\n",
    "df['Id'] = df['Id'].astype(int)\n",
    "df.dtypes"
   ]
  },
  {
   "cell_type": "code",
   "execution_count": 19,
   "metadata": {},
   "outputs": [
    {
     "data": {
      "text/plain": [
       "108"
      ]
     },
     "execution_count": 19,
     "metadata": {},
     "output_type": "execute_result"
    }
   ],
   "source": [
    "# Check for duplicates\n",
    "df[df.duplicated()].shape[0]"
   ]
  },
  {
   "cell_type": "code",
   "execution_count": 20,
   "metadata": {},
   "outputs": [
    {
     "data": {
      "text/plain": [
       "0"
      ]
     },
     "execution_count": 20,
     "metadata": {},
     "output_type": "execute_result"
    }
   ],
   "source": [
    "# Drop duplicates\n",
    "df = df.drop_duplicates()\n",
    "df[df.duplicated()].shape[0]"
   ]
  },
  {
   "cell_type": "code",
   "execution_count": 21,
   "metadata": {},
   "outputs": [
    {
     "data": {
      "text/plain": [
       "Id                        0\n",
       "Title                     0\n",
       "Company               11997\n",
       "Date                      0\n",
       "Location             121248\n",
       "Area                 195787\n",
       "Classification       121248\n",
       "SubClassification    121248\n",
       "Requirement               7\n",
       "FullDescription       16135\n",
       "LowestSalary              0\n",
       "HighestSalary             0\n",
       "JobType               16058\n",
       "dtype: int64"
      ]
     },
     "execution_count": 21,
     "metadata": {},
     "output_type": "execute_result"
    }
   ],
   "source": [
    "# Check for null entries\n",
    "df.isnull().sum()"
   ]
  },
  {
   "cell_type": "code",
   "execution_count": 22,
   "metadata": {},
   "outputs": [
    {
     "data": {
      "text/plain": [
       "Id                   0\n",
       "Title                0\n",
       "Company              0\n",
       "Date                 0\n",
       "Location             0\n",
       "Area                 0\n",
       "Classification       0\n",
       "SubClassification    0\n",
       "Requirement          0\n",
       "FullDescription      0\n",
       "LowestSalary         0\n",
       "HighestSalary        0\n",
       "JobType              0\n",
       "dtype: int64"
      ]
     },
     "execution_count": 22,
     "metadata": {},
     "output_type": "execute_result"
    }
   ],
   "source": [
    "# Drop null entries\n",
    "df = df.dropna()\n",
    "df.isnull().sum()"
   ]
  },
  {
   "cell_type": "code",
   "execution_count": 24,
   "metadata": {},
   "outputs": [
    {
     "data": {
      "text/plain": [
       "'<p>&nbsp;</p>\\n        <p><strong><em>*&nbsp; Secure long term role with genuine career path to supervisor</em></strong></p>\\n        <p><strong><em>*&nbsp; Competitive hourly rate with regular opportunity for overtime</em></strong></p>\\n        <p><strong><em>*&nbsp; Full on-the-job training</em></strong></p>\\n        <p><strong>About the&nbsp;role</strong></p>\\n        <p>Having recently won a significant new national contract we are looking for another trade qualified person with welding and fabrication skills to help manage increased demands on our production and installation departments.&nbsp; This role will\\n          see you involved in both manufacturing and on-site installation and there is a genuine career path to supervisor if that is your goal.&nbsp; Initially your role will require you to:-</p>\\n        <ul>\\n          <li>read and interpret drawings&nbsp;</li>\\n          <li>fabricate and assemble orders as required</li>\\n          <li>provide input to enhance factory processes</li>\\n          <li>pack&nbsp;and dispatch orders</li>\\n          <li>perform on-site installations (full training will be given)</li>\\n        </ul>\\n        <p><strong>About you</strong></p>\\n        <p>This role is ideal for a trade qualified person&nbsp;(welder, boilermaker, fabricator etc) with good hands-on skills who will enjoy&nbsp;dividing their time between&nbsp;factory/manufacturing and on-site installations.&nbsp; Because installations\\n          invariably take place on the roof, physical fitness is&nbsp;essential.</p>\\n        <p><strong>What we offer</strong></p>\\n        <ul>\\n          <li>A secure, long-term role with a successful, well-established organisation</li>\\n          <li>Full, ongoing on-the-job training</li>\\n          <li>Opportunity for career progression to supervisor for the right person</li>\\n          <li>Opportunity to work&nbsp;in a safe, supportive and friendly environment</li>\\n          <li>Competitive hourly rate with regular opportunities for overtime</li>\\n          <li>Occasional regional and interstate travel in response to major projects</li>\\n        </ul>\\n        <p><strong>How to apply</strong></p>\\n        <p>Please copy and paste the URL below into your browser (it is <em>not</em> a live link so&nbsp;must be copied and pasted).&nbsp; This will take you to our custom online application form which includes a number of screening questions&nbsp;and a\\n          profiling checklist which is an essential part of our application process.</p>\\n        <p><strong>https://exenet.expr3ss.com/jobDetails?selectJob=296&amp;</strong></p>\\n        <p>If you have any difficulties or would like more information please email <a class=\"_2L3qcJ0\" data-contact-match=\"true\" href=\"mailto:gayle@exhr.com.au\">gayle@exhr.com.au</a> or phone <a class=\"_2hhDNI-\" data-contact-match=\"true\" href=\"tel:0468 336 224\">0468 336 224</a>.</p>'"
      ]
     },
     "execution_count": 24,
     "metadata": {},
     "output_type": "execute_result"
    }
   ],
   "source": [
    "df['FullDescription'][121]"
   ]
  },
  {
   "cell_type": "code",
   "execution_count": 26,
   "metadata": {},
   "outputs": [],
   "source": [
    "# Clean 'FullDescription' of html tags, symbols and extra spaces\n",
    "df['FullDescription'] = df['FullDescription'].str.replace('\\&(.*?)\\;', ' ')\n",
    "df['FullDescription'] = df['FullDescription'].str.replace('<[^<]+?>', ' ')\n",
    "df['FullDescription'] = df['FullDescription'].str.replace('\\n', ' ')\n",
    "df['FullDescription'] = df['FullDescription'].str.replace('*', ' ')\n",
    "df['FullDescription'] = df['FullDescription'].str.replace('\\s+', ' ')"
   ]
  },
  {
   "cell_type": "code",
   "execution_count": 27,
   "metadata": {},
   "outputs": [
    {
     "data": {
      "text/plain": [
       "' Secure long term role with genuine career path to supervisor Competitive hourly rate with regular opportunity for overtime Full on-the-job training About the role Having recently won a significant new national contract we are looking for another trade qualified person with welding and fabrication skills to help manage increased demands on our production and installation departments. This role will see you involved in both manufacturing and on-site installation and there is a genuine career path to supervisor if that is your goal. Initially your role will require you to:- read and interpret drawings fabricate and assemble orders as required provide input to enhance factory processes pack and dispatch orders perform on-site installations (full training will be given) About you This role is ideal for a trade qualified person (welder, boilermaker, fabricator etc) with good hands-on skills who will enjoy dividing their time between factory/manufacturing and on-site installations. Because installations invariably take place on the roof, physical fitness is essential. What we offer A secure, long-term role with a successful, well-established organisation Full, ongoing on-the-job training Opportunity for career progression to supervisor for the right person Opportunity to work in a safe, supportive and friendly environment Competitive hourly rate with regular opportunities for overtime Occasional regional and interstate travel in response to major projects How to apply Please copy and paste the URL below into your browser (it is not a live link so must be copied and pasted). This will take you to our custom online application form which includes a number of screening questions and a profiling checklist which is an essential part of our application process. https://exenet.expr3ss.com/jobDetails?selectJob=296 If you have any difficulties or would like more information please email gayle@exhr.com.au or phone 0468 336 224 . '"
      ]
     },
     "execution_count": 27,
     "metadata": {},
     "output_type": "execute_result"
    }
   ],
   "source": [
    "df['FullDescription'][121]"
   ]
  },
  {
   "cell_type": "markdown",
   "metadata": {},
   "source": [
    "#### TODO? - clean requirements"
   ]
  },
  {
   "cell_type": "markdown",
   "metadata": {},
   "source": [
    "### Data Preparation all in one"
   ]
  },
  {
   "cell_type": "code",
   "execution_count": 31,
   "metadata": {},
   "outputs": [
    {
     "data": {
      "text/html": [
       "<div>\n",
       "<style scoped>\n",
       "    .dataframe tbody tr th:only-of-type {\n",
       "        vertical-align: middle;\n",
       "    }\n",
       "\n",
       "    .dataframe tbody tr th {\n",
       "        vertical-align: top;\n",
       "    }\n",
       "\n",
       "    .dataframe thead th {\n",
       "        text-align: right;\n",
       "    }\n",
       "</style>\n",
       "<table border=\"1\" class=\"dataframe\">\n",
       "  <thead>\n",
       "    <tr style=\"text-align: right;\">\n",
       "      <th></th>\n",
       "      <th>Id</th>\n",
       "      <th>Title</th>\n",
       "      <th>Company</th>\n",
       "      <th>Date</th>\n",
       "      <th>Location</th>\n",
       "      <th>Area</th>\n",
       "      <th>Classification</th>\n",
       "      <th>SubClassification</th>\n",
       "      <th>Requirement</th>\n",
       "      <th>FullDescription</th>\n",
       "      <th>LowestSalary</th>\n",
       "      <th>HighestSalary</th>\n",
       "      <th>JobType</th>\n",
       "    </tr>\n",
       "  </thead>\n",
       "  <tbody>\n",
       "    <tr>\n",
       "      <th>121</th>\n",
       "      <td>37404238</td>\n",
       "      <td>Fabricator/Installer</td>\n",
       "      <td>WORKPLACE ACCESS &amp; SAFETY</td>\n",
       "      <td>2018-10-07 00:00:00+00:00</td>\n",
       "      <td>Melbourne</td>\n",
       "      <td>Bayside &amp; South Eastern Suburbs</td>\n",
       "      <td>Trades &amp; Services</td>\n",
       "      <td>Welders &amp; Boilermakers</td>\n",
       "      <td>Trade qualified person with skills in welding ...</td>\n",
       "      <td>Secure long term role with genuine career pat...</td>\n",
       "      <td>0</td>\n",
       "      <td>30</td>\n",
       "      <td>Full Time</td>\n",
       "    </tr>\n",
       "    <tr>\n",
       "      <th>122</th>\n",
       "      <td>37404195</td>\n",
       "      <td>Boilermaker</td>\n",
       "      <td>RPM Contracting QLD P/l</td>\n",
       "      <td>2018-10-07 00:00:00+00:00</td>\n",
       "      <td>Brisbane</td>\n",
       "      <td>Southern Suburbs &amp; Logan</td>\n",
       "      <td>Trades &amp; Services</td>\n",
       "      <td>Welders &amp; Boilermakers</td>\n",
       "      <td>Perm rate $30. Structural steel fab &amp; weld out...</td>\n",
       "      <td>One of Australia's best engineering workshops...</td>\n",
       "      <td>0</td>\n",
       "      <td>30</td>\n",
       "      <td>Full Time</td>\n",
       "    </tr>\n",
       "    <tr>\n",
       "      <th>125</th>\n",
       "      <td>37404288</td>\n",
       "      <td>Casual Childcare Positions  | Bondi Junction</td>\n",
       "      <td>anzuk Education</td>\n",
       "      <td>2018-10-07 00:00:00+00:00</td>\n",
       "      <td>Sydney</td>\n",
       "      <td>CBD, Inner West &amp; Eastern Suburbs</td>\n",
       "      <td>Education &amp; Training</td>\n",
       "      <td>Teaching - Early Childhood</td>\n",
       "      <td>anzuk education are searching for reliable, en...</td>\n",
       "      <td>What is anzuk? anzuk Early Childhood is a rec...</td>\n",
       "      <td>0</td>\n",
       "      <td>30</td>\n",
       "      <td>Contract/Temp</td>\n",
       "    </tr>\n",
       "    <tr>\n",
       "      <th>126</th>\n",
       "      <td>37404267</td>\n",
       "      <td>Technician</td>\n",
       "      <td>Zoom Recruitment &amp; Training</td>\n",
       "      <td>2018-10-07 00:00:00+00:00</td>\n",
       "      <td>Sydney</td>\n",
       "      <td>South West &amp; M5 Corridor</td>\n",
       "      <td>Engineering</td>\n",
       "      <td>Mechanical Engineering</td>\n",
       "      <td>This Australian Icon, connects the people of t...</td>\n",
       "      <td>This Australian Icon, connects the people of ...</td>\n",
       "      <td>0</td>\n",
       "      <td>30</td>\n",
       "      <td>Full Time</td>\n",
       "    </tr>\n",
       "    <tr>\n",
       "      <th>127</th>\n",
       "      <td>37404230</td>\n",
       "      <td>Systems Engineer</td>\n",
       "      <td>Humanised Group</td>\n",
       "      <td>2018-10-07 00:00:00+00:00</td>\n",
       "      <td>Brisbane</td>\n",
       "      <td>CBD &amp; Inner Suburbs</td>\n",
       "      <td>Information &amp; Communication Technology</td>\n",
       "      <td>Networks &amp; Systems Administration</td>\n",
       "      <td>Systems Engineer to work on BAU/Projects for a...</td>\n",
       "      <td>The Company This organisation is well-establi...</td>\n",
       "      <td>0</td>\n",
       "      <td>30</td>\n",
       "      <td>Full Time</td>\n",
       "    </tr>\n",
       "  </tbody>\n",
       "</table>\n",
       "</div>"
      ],
      "text/plain": [
       "           Id                                         Title  \\\n",
       "121  37404238                          Fabricator/Installer   \n",
       "122  37404195                                   Boilermaker   \n",
       "125  37404288  Casual Childcare Positions  | Bondi Junction   \n",
       "126  37404267                                    Technician   \n",
       "127  37404230                              Systems Engineer   \n",
       "\n",
       "                         Company                      Date   Location  \\\n",
       "121    WORKPLACE ACCESS & SAFETY 2018-10-07 00:00:00+00:00  Melbourne   \n",
       "122      RPM Contracting QLD P/l 2018-10-07 00:00:00+00:00   Brisbane   \n",
       "125              anzuk Education 2018-10-07 00:00:00+00:00     Sydney   \n",
       "126  Zoom Recruitment & Training 2018-10-07 00:00:00+00:00     Sydney   \n",
       "127              Humanised Group 2018-10-07 00:00:00+00:00   Brisbane   \n",
       "\n",
       "                                  Area  \\\n",
       "121    Bayside & South Eastern Suburbs   \n",
       "122           Southern Suburbs & Logan   \n",
       "125  CBD, Inner West & Eastern Suburbs   \n",
       "126           South West & M5 Corridor   \n",
       "127                CBD & Inner Suburbs   \n",
       "\n",
       "                             Classification  \\\n",
       "121                       Trades & Services   \n",
       "122                       Trades & Services   \n",
       "125                    Education & Training   \n",
       "126                             Engineering   \n",
       "127  Information & Communication Technology   \n",
       "\n",
       "                     SubClassification  \\\n",
       "121             Welders & Boilermakers   \n",
       "122             Welders & Boilermakers   \n",
       "125         Teaching - Early Childhood   \n",
       "126             Mechanical Engineering   \n",
       "127  Networks & Systems Administration   \n",
       "\n",
       "                                           Requirement  \\\n",
       "121  Trade qualified person with skills in welding ...   \n",
       "122  Perm rate $30. Structural steel fab & weld out...   \n",
       "125  anzuk education are searching for reliable, en...   \n",
       "126  This Australian Icon, connects the people of t...   \n",
       "127  Systems Engineer to work on BAU/Projects for a...   \n",
       "\n",
       "                                       FullDescription  LowestSalary  \\\n",
       "121   Secure long term role with genuine career pat...             0   \n",
       "122   One of Australia's best engineering workshops...             0   \n",
       "125   What is anzuk? anzuk Early Childhood is a rec...             0   \n",
       "126   This Australian Icon, connects the people of ...             0   \n",
       "127   The Company This organisation is well-establi...             0   \n",
       "\n",
       "     HighestSalary        JobType  \n",
       "121             30      Full Time  \n",
       "122             30      Full Time  \n",
       "125             30  Contract/Temp  \n",
       "126             30      Full Time  \n",
       "127             30      Full Time  "
      ]
     },
     "execution_count": 31,
     "metadata": {},
     "output_type": "execute_result"
    }
   ],
   "source": [
    "# Change Date dtype to datetime\n",
    "df['Date'] = pd.to_datetime(df['Date'])\n",
    "\n",
    "# Remove all '&searchrequesttoken...' strings from Id column\n",
    "df['Id'] = df['Id'].str.split('&').str[0]\n",
    "df['Id'] = df['Id'].astype(int)\n",
    "\n",
    "# Drop duplicates\n",
    "df = df.drop_duplicates()\n",
    "\n",
    "# Drop null entries\n",
    "df = df.dropna()\n",
    "\n",
    "# Clean 'FullDescription' of html tags, symbols and extra spaces\n",
    "df['FullDescription'] = df['FullDescription'].str.replace('\\&(.*?)\\;', ' ')\n",
    "df['FullDescription'] = df['FullDescription'].str.replace('<[^<]+?>', ' ')\n",
    "df['FullDescription'] = df['FullDescription'].str.replace('\\n', ' ')\n",
    "df['FullDescription'] = df['FullDescription'].str.replace('*', ' ')\n",
    "df['FullDescription'] = df['FullDescription'].str.replace('\\s+', ' ')\n",
    "\n",
    "df.head()"
   ]
  },
  {
   "cell_type": "markdown",
   "metadata": {},
   "source": [
    "### Part 2 - Data Analysis and Interpretation"
   ]
  },
  {
   "cell_type": "code",
   "execution_count": 29,
   "metadata": {},
   "outputs": [
    {
     "data": {
      "text/plain": [
       "array(['Trades & Services', 'Education & Training', 'Engineering',\n",
       "       'Information & Communication Technology',\n",
       "       'Marketing & Communications', 'CEO & General Management',\n",
       "       'Human Resources & Recruitment', 'Accounting', 'Legal',\n",
       "       'Real Estate & Property', 'Manufacturing, Transport & Logistics',\n",
       "       'Healthcare & Medical', 'Banking & Financial Services',\n",
       "       'Construction', 'Sport & Recreation', 'Government & Defence',\n",
       "       'Hospitality & Tourism', 'Sales', 'Retail & Consumer Products',\n",
       "       'Call Centre & Customer Service',\n",
       "       'Administration & Office Support', 'Design & Architecture',\n",
       "       'Mining, Resources & Energy', 'Science & Technology',\n",
       "       'Advertising, Arts & Media', 'Insurance & Superannuation',\n",
       "       'Farming, Animals & Conservation',\n",
       "       'Community Services & Development', 'Self Employment',\n",
       "       'Consulting & Strategy'], dtype=object)"
      ]
     },
     "execution_count": 29,
     "metadata": {},
     "output_type": "execute_result"
    }
   ],
   "source": [
    "df.Classification.unique()"
   ]
  },
  {
   "cell_type": "code",
   "execution_count": 32,
   "metadata": {},
   "outputs": [
    {
     "data": {
      "text/plain": [
       "array(['Welders & Boilermakers', 'Teaching - Early Childhood',\n",
       "       'Mechanical Engineering', 'Networks & Systems Administration',\n",
       "       'Product Management & Development',\n",
       "       'Programme & Project Management', 'General/Business Unit Manager',\n",
       "       'Help Desk & IT Support', 'Remuneration & Benefits',\n",
       "       'Business Services & Corporate Advisory', 'Sales - Pre & Post',\n",
       "       'Maintenance & Handyperson Services', 'Environment & Planning Law',\n",
       "       'Security', 'Other', 'Financial Accounting & Reporting',\n",
       "       'Management', 'Pharmacy', 'Consultants',\n",
       "       'Psychology, Counselling & Social Work', 'Architects',\n",
       "       'Compliance & Risk', 'Audit - External', 'Analysts',\n",
       "       'Teaching - Tertiary', 'Audit - Internal',\n",
       "       'Stockbroking & Trading', 'Corporate Finance & Investment Banking',\n",
       "       'Digital & Search Marketing', 'Sales', 'Project Management',\n",
       "       'Contracts Management', 'Financial Managers & Controllers',\n",
       "       'Clinical/Medical Research', 'Business/Systems Analysts',\n",
       "       'Government - State', 'Residential Leasing & Property Management',\n",
       "       'Bar & Beverage Staff', 'Kitchen & Sandwich Hands',\n",
       "       'Waiting Staff', 'Sales Representatives/Consultants',\n",
       "       'Fitness & Personal Training', 'Systems Accounting & IT Audit',\n",
       "       'Assembly & Process Work', 'Management - Store',\n",
       "       'Customer Service - Customer Facing', 'General Practitioners',\n",
       "       'Hair & Beauty Services', 'Nursing - Aged Care',\n",
       "       'Administrative Assistants', 'Production, Planning & Scheduling',\n",
       "       'PA, EA & Secretarial', 'Physiotherapy, OT & Rehabilitation',\n",
       "       'Chefs/Cooks', 'Warehousing, Storage & Distribution',\n",
       "       'Architecture', 'Developers/Programmers', 'Retail Assistants',\n",
       "       'Surveying', 'Mining - Drill & Blast', 'Teaching - Primary',\n",
       "       'Administration', 'Chemistry & Physics',\n",
       "       'Media Strategy, Planning & Buying', 'Direct Marketing & CRM',\n",
       "       'Foreperson/Supervisors', 'Marketing Communications',\n",
       "       'Management - Agency', 'Speech Therapy', 'Graphic Design',\n",
       "       'Mining - Engineering & Maintenance',\n",
       "       'Body Corporate & Facilities Management', 'Mining - Operations',\n",
       "       'Purchasing, Procurement & Inventory',\n",
       "       'Web Development & Production', 'Taxation',\n",
       "       'Occupational Health & Safety', 'Financial Planning',\n",
       "       'Client & Sales Administration', 'Receptionists',\n",
       "       'Engineering - Software', 'Mining - Exploration & Geoscience',\n",
       "       'Payroll', 'Legal Secretaries', 'Technicians',\n",
       "       'Architectural Drafting', 'Coaching & Instruction',\n",
       "       'Government - Local', 'Plumbers',\n",
       "       'Nursing - General Medical & Surgical', 'Medical Administration',\n",
       "       'Residential Sales', 'Electricians', 'Pickers & Packers',\n",
       "       'Account & Relationship Management', 'New Business Development',\n",
       "       'Customer Service - Call Centre', 'Credit',\n",
       "       'Childcare & Outside School Hours Care',\n",
       "       'Civil/Structural Engineering', 'Office Management',\n",
       "       'Road Transport', 'Claims', 'Automotive Trades',\n",
       "       'Accounts Receivable/Credit Control', 'Property Law',\n",
       "       'Horticulture', 'Water & Waste Engineering',\n",
       "       'Community Development', 'Optical',\n",
       "       'Bookkeeping & Small Practice Accounting', 'Machine Operators',\n",
       "       'Aged & Disability Support', 'Carpentry & Cabinet Making',\n",
       "       'Dental', 'Sales - Outbound', 'Client Services',\n",
       "       'Recruitment - Agency', 'Accounts Officers/Clerks',\n",
       "       'Fitters, Turners & Machinists', 'Locksmiths',\n",
       "       'Market Research & Analysis', 'Workplace Training & Assessment',\n",
       "       'Marketing Assistants/Coordinators', 'Housekeeping',\n",
       "       'Front Office & Guest Services',\n",
       "       'Air Conditioning & Refrigeration', 'Maintenance',\n",
       "       'Plant & Machinery Operators', 'Assistant Accountants',\n",
       "       'Management - Department/Assistant',\n",
       "       'Couriers, Drivers & Postal Services', 'Labourers',\n",
       "       'Field Engineering', 'Estimating', 'Consulting & Generalist HR',\n",
       "       'Engineering - Network', 'Building Services Engineering',\n",
       "       'Project Engineering', 'Self Employment', 'Industrial Design',\n",
       "       'Planning', 'Analysis & Reporting', 'Mortgages', 'Sales - Inbound',\n",
       "       'Security Services', 'Interior Design',\n",
       "       'Commercial Sales, Leasing & Property Mgmt',\n",
       "       'Health, Safety & Environment', 'Engineering Drafting',\n",
       "       'Corporate & Commercial Law', 'Teaching - Secondary',\n",
       "       'Environmental, Earth & Geosciences',\n",
       "       'Biological & Biomedical Sciences', 'Chemical Engineering',\n",
       "       'Electrical/Electronic Engineering', 'Ambulance/Paramedics',\n",
       "       'Banking - Retail/Branch', 'Team Leaders',\n",
       "       'Testing & Quality Assurance',\n",
       "       'Child Welfare, Youth & Family Services', 'Medical Imaging',\n",
       "       'Cleaning Services', 'Tailors & Dressmakers',\n",
       "       'Programming & Production', \"Workers' Compensation\",\n",
       "       'Accounts Payable', 'Journalism & Writing', 'Building Trades',\n",
       "       'Reservations', 'Generalists - In-house',\n",
       "       'Power Generation & Distribution',\n",
       "       'Nursing - Psych, Forensic & Correctional Health',\n",
       "       'Web & Interaction Design',\n",
       "       'Database Development & Administration', 'Tax Law',\n",
       "       'Aviation Services', 'Litigation & Dispute Resolution',\n",
       "       'Brand Management', 'Medical Specialists',\n",
       "       'Nursing - Midwifery, Neo-Natal, SCN & NICU',\n",
       "       'Natural Therapies & Alternative Medicine',\n",
       "       'Nursing - Community, Maternal & Child Health',\n",
       "       'Telecommunications', 'Company Secretaries',\n",
       "       'Nursing - A&E, Critical Care & ICU', 'Teaching - Vocational',\n",
       "       'Generalists - Law Firm', 'Recruitment - Internal', 'Promotions',\n",
       "       'Quality Assurance & Control', 'Travel Agents/Consultants',\n",
       "       'Management Accounting & Budgeting', 'Gardening & Landscaping',\n",
       "       'Government - Federal', 'Funds Management', 'Sales Coordinators',\n",
       "       'Management - Universities', 'Urban Design & Planning',\n",
       "       'Import/Export & Customs', 'Retail & Property Development',\n",
       "       'Buying', 'Agency Account Management', 'Contracts Administration',\n",
       "       'Painters & Sign Writers', 'Management & Support',\n",
       "       'Supervisors/Team Leaders', 'Fashion & Textile Design',\n",
       "       'Insurance & Superannuation Law', 'Student Services',\n",
       "       'Library Services & Information Management',\n",
       "       'Printing & Publishing Services', 'Law Clerks & Paralegals',\n",
       "       'Butchers', 'Collections', 'Management - Internal',\n",
       "       'Strategy & Planning', 'Pathology', 'Bakers & Pastry Chefs',\n",
       "       'Veterinary Services & Animal Welfare', 'Nursing - High Acuity',\n",
       "       'Construction Law', 'Management - Area/Multi-site',\n",
       "       'Nursing - Educators & Facilitators',\n",
       "       'Industrial Relations & Employment Law', 'Process Engineering',\n",
       "       'Laboratory & Technical Services', 'Team Leaders/Supervisors',\n",
       "       'Policy', 'Pharmaceuticals & Medical Devices',\n",
       "       'Banking - Business', 'Training & Development',\n",
       "       'Management & Change Consulting', 'Employment Services',\n",
       "       'Banking & Finance Law', 'CEO', 'Management - Schools',\n",
       "       'Data Entry & Word Processing', 'Oil & Gas - Operations',\n",
       "       'Environment & Sustainability Consulting', 'Personal Injury Law',\n",
       "       'Technical Writing', 'Industrial & Employee Relations',\n",
       "       'Cost Accounting', 'Management - Vocational',\n",
       "       'Nursing - Theatre & Recovery', 'Policy, Planning & Regulation',\n",
       "       'Systems Engineering', 'Freight/Cargo Forwarding', 'Merchandisers',\n",
       "       'Landscape Architecture', 'Event Management',\n",
       "       'Indigenous & Multicultural Services',\n",
       "       'Volunteer Coordination & Support',\n",
       "       'Banking - Corporate & Institutional', 'Family Law',\n",
       "       'Teaching Aides & Special Needs', 'Conservation, Parks & Wildlife',\n",
       "       'Research & Fellowships', 'Oil & Gas - Drilling', 'Settlements',\n",
       "       'Planning & Scheduling', 'Records Management & Document Control',\n",
       "       'Mathematics, Statistics & Information Sciences', 'Underwriting',\n",
       "       'Airlines', 'Brokerage', 'Insolvency & Corporate Recovery',\n",
       "       'Tutoring', 'Nannies & Babysitters',\n",
       "       'Public Relations & Corporate Affairs', 'Gaming',\n",
       "       'Editing & Publishing', 'Fleet Management', 'Police & Corrections',\n",
       "       'Fundraising', 'Automotive Engineering', 'Superannuation',\n",
       "       'Photography', 'Farm Labour', 'Engineering - Hardware',\n",
       "       'Housing & Homelessness Services',\n",
       "       'Public Transport & Taxi Services', 'Assessment',\n",
       "       'Internal Communications', 'Rail & Maritime Transport',\n",
       "       'Legal Practice Management', 'Organisational Development',\n",
       "       'Food Technology & Safety', 'Intellectual Property Law',\n",
       "       'Biotechnology & Genetics', 'Pattern Makers & Garment Technicians',\n",
       "       'Farm Management', 'Nursing - Management',\n",
       "       'Environmental Engineering', 'Industrial Engineering',\n",
       "       'Trade Marketing', 'Inventory & Fixed Assets', 'Government',\n",
       "       'Art Direction', 'Materials Sciences', 'Dieticians', 'Navy',\n",
       "       'Aerospace Engineering', 'Natural Resources & Water',\n",
       "       'Corporate Development', 'Oil & Gas - Engineering & Maintenance',\n",
       "       'Treasury', 'Forensic Accounting & Investigation', 'Actuarial',\n",
       "       'Residents & Registrars', 'Mining - Processing',\n",
       "       'Materials Handling Engineering', 'Supervisors', 'Risk Consulting',\n",
       "       'Performing Arts', 'COO & MD', 'Valuation', 'Computer Operators',\n",
       "       'Fishing & Aquaculture', 'Environmental Services',\n",
       "       'Modelling & Simulation', 'Emergency Services',\n",
       "       'Oil & Gas - Exploration & Geoscience', 'Floristry',\n",
       "       'Board Appointments', 'Agronomy & Farm Services',\n",
       "       'Nursing - Paediatric & PICU', 'Fund Administration',\n",
       "       'Chiropractic & Osteopathic', 'Criminal & Civil Law', 'Air Force',\n",
       "       'Oil & Gas - Production & Refinement', 'Local Government',\n",
       "       'Tour Guides', 'Illustration & Animation', 'Army'], dtype=object)"
      ]
     },
     "execution_count": 32,
     "metadata": {},
     "output_type": "execute_result"
    }
   ],
   "source": [
    "df.SubClassification.unique()"
   ]
  },
  {
   "cell_type": "code",
   "execution_count": 33,
   "metadata": {},
   "outputs": [
    {
     "data": {
      "text/plain": [
       "array(['Fabricator/Installer', 'Boilermaker',\n",
       "       'Casual Childcare Positions  | Bondi Junction', ...,\n",
       "       'Head of Merchandise Planning',\n",
       "       'IT Project/ Program Manager - Banking',\n",
       "       'IT Test Analyst OR Senior IT Test Analyst'], dtype=object)"
      ]
     },
     "execution_count": 33,
     "metadata": {},
     "output_type": "execute_result"
    }
   ],
   "source": [
    "df.Title.unique()"
   ]
  }
 ],
 "metadata": {
  "kernelspec": {
   "display_name": "env_name",
   "language": "python",
   "name": "env_name"
  },
  "language_info": {
   "codemirror_mode": {
    "name": "ipython",
    "version": 3
   },
   "file_extension": ".py",
   "mimetype": "text/x-python",
   "name": "python",
   "nbconvert_exporter": "python",
   "pygments_lexer": "ipython3",
   "version": "3.6.10"
  }
 },
 "nbformat": 4,
 "nbformat_minor": 4
}
